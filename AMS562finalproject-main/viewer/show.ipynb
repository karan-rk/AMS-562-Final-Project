{
 "cells": [
  {
   "cell_type": "code",
   "execution_count": 1,
   "metadata": {},
   "outputs": [
    {
     "data": {
      "application/vnd.jupyter.widget-view+json": {
       "model_id": "dd2492b7a1514d84b3e0aa6bd5789be7",
       "version_major": 2,
       "version_minor": 0
      },
      "text/plain": [
       "interactive(children=(IntSlider(value=0, description='Day', layout=Layout(width='70%'), max=256), Output()), _…"
      ]
     },
     "metadata": {},
     "output_type": "display_data"
    },
    {
     "data": {
      "text/plain": [
       "<function __main__.update_plot(line_index)>"
      ]
     },
     "execution_count": 1,
     "metadata": {},
     "output_type": "execute_result"
    }
   ],
   "source": [
    "import numpy as np\n",
    "import matplotlib.pyplot as plt\n",
    "from ipywidgets import interact, IntSlider, Layout\n",
    "\n",
    "# Update the plot dynamically\n",
    "def update_plot(line_index):\n",
    "    # Ensure the line index in valid range\n",
    "    if line_index < 0 or line_index >= len(data):\n",
    "        print(\"Invalid line index\")\n",
    "        return\n",
    "\n",
    "    line = data[line_index]\n",
    "    line_data = list(map(int, line.strip().split()))\n",
    "\n",
    "    # Ensure each line has exactly six integers\n",
    "    if len(line_data) != 6:\n",
    "        print(f\"Skipping line {line_index + 1} due to invalid data format\")\n",
    "        return\n",
    "\n",
    "    fig, ax = plt.subplots(figsize=(8, 8))\n",
    "    ax.bar(np.arange(6), line_data)\n",
    "    ax.set_xlabel('Categories')\n",
    "    ax.set_ylabel('Values')\n",
    "    ax.set_title(f'Chart for Day {line_index + 1}')\n",
    "    ax.set_xticks(np.arange(6))\n",
    "    ax.set_xticklabels(['Susceptible', 'Infected', 'Recovered', 'Vaccinated', 'Died', 'Mutation'])\n",
    "    ax.set_ylim(0, 20000)\n",
    "    \n",
    "    plt.show()\n",
    "\n",
    "# File path to .m file\n",
    "file_path = 'D:\\\\disease\\\\viewer\\\\result.m'\n",
    "\n",
    "# Read the data from the .m file\n",
    "with open(file_path, 'r') as file:\n",
    "    data = file.readlines()\n",
    "\n",
    "# Create interactive slider to select days\n",
    "line_slider = IntSlider(min=0, max=len(data) - 1,layout=Layout(width='70%'), step=1, value=0, description='Day')\n",
    "\n",
    "# Link the interactive widget to the update plot function\n",
    "interact(update_plot, line_index=line_slider)\n"
   ]
  },
  {
   "cell_type": "code",
   "execution_count": null,
   "metadata": {},
   "outputs": [],
   "source": [
    "titles = ['Susceptible', 'Infected', 'Recovered', 'Vaccinated', 'Died', 'Mutation']\n",
    "columns = [[] for _ in range(6)] \n",
    "\n",
    "for line in data:\n",
    "    values = line.strip().split()  \n",
    "    if len(values) == 6: \n",
    "        for i in range(6):\n",
    "            columns[i].append(float(values[i])) \n",
    "\n",
    "x_values = list(range(1, len(columns[0]) + 1))\n",
    "\n",
    "# Plot each column\n",
    "fig, axs = plt.subplots(6, 1, figsize=(8, 40))\n",
    "\n",
    "for i in range(6):\n",
    "    axs[i].plot(x_values, columns[i])\n",
    "    axs[i].set_title(titles[i])\n",
    "    axs[i].set_xlabel('Day')\n",
    "    axs[i].set_ylabel('number of people')\n",
    "    axs[i].grid(True)\n",
    "\n",
    "\n",
    "# tight layout\n",
    "plt.tight_layout(pad=3.0)\n",
    "plt.show()\n"
   ]
  },
  {
   "cell_type": "code",
   "execution_count": null,
   "metadata": {},
   "outputs": [],
   "source": [
    "%matplotlib widget\n",
    "import ipywidgets as widgets\n",
    "import matplotlib.pyplot as plt\n",
    "\n",
    "data_file_path = 'D:\\\\disease\\\\viewer\\\\infect_map.m'\n",
    "with open(data_file_path, 'r') as file:\n",
    "    data_lines = file.readlines()\n",
    "\n",
    "data_columns = [line.strip().split() for line in data_lines]\n",
    "column1 = [int(entry[0]) for entry in data_columns]\n",
    "column2 = [int(entry[1]) for entry in data_columns]\n",
    "\n",
    "max_value = max(max(column1), max(column2))\n",
    "\n",
    "fig, ax = plt.subplots()\n",
    "\n",
    "ball1 = plt.Circle((0.3, 0.5), 0.2, color='blue', alpha=0.9)\n",
    "ax.add_patch(ball1)\n",
    "\n",
    "ball2 = plt.Circle((0.7, 0.5), 0.2, color='blue', alpha=0.9)\n",
    "ax.add_patch(ball2)\n",
    "\n",
    "ax.set_xlim(0, 1)\n",
    "ax.set_ylim(0, 1)\n",
    "ax.set_aspect('equal')\n",
    "\n",
    "text1 = ax.text(0.25, 0.9, '', fontsize=10, ha='center')\n",
    "text2 = ax.text(0.75, 0.9, '', fontsize=10, ha='center')\n",
    "\n",
    "def update_plot(line_index):\n",
    "    color_value1 = column1[line_index] / max_value\n",
    "    color_value2 = column2[line_index] / max_value \n",
    "    \n",
    "    \n",
    "    ball1.set_color((1 - color_value1, 0, color_value1))\n",
    "    ball2.set_color((1 - color_value2, 0, color_value2))\n",
    "    \n",
    "    text1.set_text(f'Virus source{column1[line_index]}')\n",
    "    text2.set_text(f'Outside{column2[line_index]}')\n",
    "    \n",
    "    plt.draw() \n",
    "\n",
    "# Create interactive slider to select days\n",
    "line_slider = IntSlider(min=0, max=len(data) - 1,layout=Layout(width='70%'), step=1, value=0, description='Day')\n",
    "widgets.interact(update_plot, line_index=line_slider)\n",
    "\n",
    "plt.show()\n"
   ]
  }
 ],
 "metadata": {
  "kernelspec": {
   "display_name": "base",
   "language": "python",
   "name": "python3"
  },
  "language_info": {
   "codemirror_mode": {
    "name": "ipython",
    "version": 3
   },
   "file_extension": ".py",
   "mimetype": "text/x-python",
   "name": "python",
   "nbconvert_exporter": "python",
   "pygments_lexer": "ipython3",
   "version": "3.11.7"
  }
 },
 "nbformat": 4,
 "nbformat_minor": 2
}
